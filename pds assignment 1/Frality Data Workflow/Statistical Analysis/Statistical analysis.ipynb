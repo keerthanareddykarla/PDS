{
  "nbformat": 4,
  "nbformat_minor": 0,
  "metadata": {
    "colab": {
      "provenance": []
    },
    "kernelspec": {
      "name": "python3",
      "display_name": "Python 3"
    },
    "language_info": {
      "name": "python"
    }
  },
  "cells": [
    {
      "cell_type": "code",
      "execution_count": 3,
      "metadata": {
        "colab": {
          "base_uri": "https://localhost:8080/"
        },
        "id": "0hV1utG4Ott7",
        "outputId": "66e5685c-56bf-4b66-96c8-7562a01a5428"
      },
      "outputs": [
        {
          "output_type": "stream",
          "name": "stdout",
          "text": [
            "                            OLS Regression Results                            \n",
            "==============================================================================\n",
            "Dep. Variable:     Grip strength (kg)   R-squared:                       0.018\n",
            "Model:                            OLS   Adj. R-squared:                 -0.105\n",
            "Method:                 Least Squares   F-statistic:                    0.1457\n",
            "Date:                Wed, 27 Sep 2023   Prob (F-statistic):              0.713\n",
            "Time:                        01:26:16   Log-Likelihood:                -20.755\n",
            "No. Observations:                  10   AIC:                             45.51\n",
            "Df Residuals:                       8   BIC:                             46.12\n",
            "Df Model:                           1                                         \n",
            "Covariance Type:            nonrobust                                         \n",
            "==============================================================================\n",
            "                 coef    std err          t      P>|t|      [0.025      0.975]\n",
            "------------------------------------------------------------------------------\n",
            "const         11.1001      1.940      5.722      0.000       6.627      15.573\n",
            "Age            0.0213      0.056      0.382      0.713      -0.108       0.150\n",
            "==============================================================================\n",
            "Omnibus:                        2.843   Durbin-Watson:                   0.941\n",
            "Prob(Omnibus):                  0.241   Jarque-Bera (JB):                0.998\n",
            "Skew:                          -0.206   Prob(JB):                        0.607\n",
            "Kurtosis:                       1.508   Cond. No.                         98.8\n",
            "==============================================================================\n",
            "\n",
            "Notes:\n",
            "[1] Standard Errors assume that the covariance matrix of the errors is correctly specified.\n"
          ]
        },
        {
          "output_type": "stream",
          "name": "stderr",
          "text": [
            "/usr/local/lib/python3.10/dist-packages/scipy/stats/_stats_py.py:1806: UserWarning: kurtosistest only valid for n>=20 ... continuing anyway, n=10\n",
            "  warnings.warn(\"kurtosistest only valid for n>=20 ... continuing \"\n",
            "/usr/local/lib/python3.10/dist-packages/scipy/stats/_stats_py.py:1806: UserWarning: kurtosistest only valid for n>=20 ... continuing anyway, n=10\n",
            "  warnings.warn(\"kurtosistest only valid for n>=20 ... continuing \"\n"
          ]
        }
      ],
      "source": [
        "import pandas as pd\n",
        "import statsmodels.api as sm\n",
        "\n",
        "# Load the cleaned data\n",
        "cleaned_data = pd.read_csv(\"/content/cleaned_data.csv\")\n",
        "\n",
        "# Perform statistical analysis (example: linear regression)\n",
        "X = cleaned_data['Age']\n",
        "X = sm.add_constant(X)  # Add a constant term\n",
        "y = cleaned_data['Grip strength (kg)']\n",
        "\n",
        "model = sm.OLS(y, X).fit()\n",
        "print(model.summary())\n",
        "\n",
        "# Save the analysis report\n",
        "with open(\"reportsanalysis_report.txt\", 'w') as report_file:\n",
        "    report_file.write(str(model.summary()))"
      ]
    }
  ]
}