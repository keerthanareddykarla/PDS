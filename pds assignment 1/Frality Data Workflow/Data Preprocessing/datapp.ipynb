{
  "cells": [
    {
      "cell_type": "code",
      "source": [
        "import pandas as pd\n",
        "\n",
        "# Load the raw data\n",
        "raw_data = pd.read_csv(\"raw_data.csv\")\n",
        "\n",
        "# Data cleaning and preprocessing\n",
        "# For example, remove duplicates\n",
        "cleaned_data = raw_data.drop_duplicates()\n",
        "\n",
        "# Convert grip strength from pounds to kilograms\n",
        "cleaned_data['Grip strength (kg)'] = cleaned_data['Grip strength'] * 0.453592\n",
        "\n",
        "# Save the cleaned data\n",
        "cleaned_data.to_csv(\"cleaned_data.csv\", index=False)"
      ],
      "metadata": {
        "id": "kh8wUDoBG6AE"
      },
      "execution_count": 2,
      "outputs": []
    }
  ],
  "metadata": {
    "colab": {
      "name": "Welcome To Colaboratory",
      "provenance": []
    },
    "kernelspec": {
      "display_name": "Python 3",
      "name": "python3"
    }
  },
  "nbformat": 4,
  "nbformat_minor": 0
}