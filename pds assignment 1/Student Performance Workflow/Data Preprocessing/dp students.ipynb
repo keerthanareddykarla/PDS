{
  "nbformat": 4,
  "nbformat_minor": 0,
  "metadata": {
    "colab": {
      "provenance": []
    },
    "kernelspec": {
      "name": "python3",
      "display_name": "Python 3"
    },
    "language_info": {
      "name": "python"
    }
  },
  "cells": [
    {
      "cell_type": "code",
      "execution_count": 4,
      "metadata": {
        "id": "jTJ7E4TNRGib"
      },
      "outputs": [],
      "source": [
        "import pandas as pd\n",
        "\n",
        "# Load the raw data\n",
        "raw_data = pd.read_csv(\"/content/raw_student_data.csv\")\n",
        "\n",
        "# Data cleaning and preprocessing\n",
        "# For example, remove duplicates\n",
        "cleaned_data = raw_data.drop_duplicates()\n",
        "# Calculate average score of each student\n",
        "cleaned_data['average score'] = (cleaned_data['math score']+cleaned_data['reading score']+cleaned_data['writing score'])//3\n",
        "\n",
        "# Save the cleaned data\n",
        "cleaned_data.to_csv(\"cleaned_data.csv\", index=False)"
      ]
    }
  ]
}